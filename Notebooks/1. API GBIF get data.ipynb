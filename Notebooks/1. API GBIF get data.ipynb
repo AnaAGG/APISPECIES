{
 "cells": [
  {
   "cell_type": "markdown",
   "id": "southeast-winning",
   "metadata": {},
   "source": [
    "## Libraries "
   ]
  },
  {
   "cell_type": "code",
   "execution_count": 1,
   "id": "attempted-rwanda",
   "metadata": {},
   "outputs": [],
   "source": [
    "import sys\n",
    "sys.path.append('../')"
   ]
  },
  {
   "cell_type": "code",
   "execution_count": 15,
   "id": "functional-bread",
   "metadata": {},
   "outputs": [],
   "source": [
    "import calendar\n",
    "import requests\n",
    "import pandas as pd\n",
    "from tqdm import tqdm\n",
    "from time import sleep\n",
    "from pygbif import species\n",
    "from pygbif import occurrences as occ\n",
    "from geopy.geocoders import Nominatim\n",
    "from src.functions_gbif import *"
   ]
  },
  {
   "cell_type": "markdown",
   "id": "governing-freight",
   "metadata": {},
   "source": [
    "##  Objective"
   ]
  },
  {
   "cell_type": "markdown",
   "id": "honey-company",
   "metadata": {},
   "source": [
    "The objective of this jupyter is to extract the information about the species from which my MongaCompass database will be fed (Notebook2)."
   ]
  },
  {
   "cell_type": "code",
   "execution_count": 12,
   "id": "hindu-allocation",
   "metadata": {},
   "outputs": [],
   "source": [
    "sp_list = ['Canis lupus Linnaeus, 1758', 'Herpestes ichneumon (Linnaeus, 1758)', 'Galemys pyrenaicus (É.Geoffroy Saint-Hilaire, 1811)',\n",
    "          'Capra pyrenaica Schinz, 1838', 'Rupicapra rupicapra (Linnaeus, 1758)', 'Alytes obstetricans (Laurenti, 1768)', \n",
    "           'Discoglossus galganoi Capula, Nascetti, Lanza, Bullini & Crespo, 1985', 'Salamandra salamandra (Linnaeus, 1758)',\n",
    "           'Hyla meridionalis Boettger, 1874', 'Timon lepidus (Daudin, 1802)', 'Vipera latastei Bosca, 1878', 'Tyto alba (Scopoli, 1769)',\n",
    "           'Otis tarda Linnaeus, 1758', 'Upupa epops Linnaeus, 1758', 'Fringilla coelebs Linnaeus, 1758', 'Loxia curvirostra Linnaeus, 1758', \n",
    "           'Podiceps cristatus (Linnaeus, 1758)', 'Bucanetes githagineus (M.H.K.Lichtenstein, 1823)', 'Hirundo rustica Linnaeus, 1758', \n",
    "           'Hirundo rustica Linnaeus, 1758', 'Lutra lutra (Linnaeus, 1758)', \"Mareca penelope (Linnaeus, 1758)\",\"Tadorna tadorna (Linnaeus, 1758)\", \n",
    "          \"Spatula discors (Linnaeus, 1766)\", \"Netta rufina (Pallas, 1773)\", \"Alectoris barbara (Bonnaterre, 1792)\", \"Podiceps auritus (Linnaeus, 1758)\", \n",
    "           \"Podiceps nigricollis C.L.Brehm, 1831\", \"Plegadis falcinellus (Linnaeus, 1766)\", \"Platalea leucorodia Linnaeus, 1758\", \"Ixobrychus minutus (Linnaeus, 1766)\", \n",
    "           \"Ixobrychus sturmii (Wagler, 1827)\", \"Nycticorax nycticorax (Linnaeus, 1758)\", \"Ardeola ralloides (Scopoli, 1769)\", \n",
    "           \"Ardea alba Linnaeus, 1758\", \"Tachybaptus ruficollis (Pallas, 1764)\", \"Mustela erminea Linnaeus, 1758\", \"Sciurus vulgaris Linnaeus, 1758\", \n",
    "           \"Martes foina Erxleben, 1777\", \"Felis silvestris Schreber, 1777\", \"Genetta genetta (Linnaeus, 1758)\", \"Eliomys quercinus (Linnaeus, 1766)\", \n",
    "           \"Glis glis (Linnaeus, 1766)\", \"Martes martes (Linnaeus, 1758)\", \"Herpestes ichneumon (Linnaeus, 1758)\", \"Ovis musimon (Pallas, 1811)\", \n",
    "           \"Ursus arctos subsp. arctos\", \"Meles meles (Linnaeus, 1758)\", \"Vulpes vulpes (Linnaeus, 1758)\", \"Acipenser sturio Linnaeus, 1758\", \"Alosa alosa (Linnaeus, 1758)\", \n",
    "           \"Alosa fallax (Lacepède, 1803)\", \"Anguilla anguilla (Linnaeus, 1758)\", \"Salmo trutta Linnaeus, 1758\",\n",
    "           \"Esox lucius Linnaeus, 1758\", \"Pseudochondrostoma duriense (Coelho, 1985)\", \"Pseudochondrostoma polylepis (Steindachner, 1864)\", \"Pseudochondrostoma willkommii (Steindachner, 1866)\",\n",
    "           \"Gobio lozanoi Doadrio & Madeira, 2004\", \"Tinca tinca (Linnaeus, 1758)\", \"Chamaeleo chamaeleon (Linnaeus, 1758)\", \"Blanus cinereus (Vandelli, 1797)\", \"Blanus mariae Albert & Fernández, 2009\", \n",
    "           \"Anguis fragilis Linnaeus, 1758\", \"Hemidactylus turcicus Linnaeus, 1758\", \"Tarentola mauritanica (Linnaeus, 1758)\", \"Chalcides bedriagai (Bosca, 1880)\", \"Chalcides striatus (Cuvier, 1829)\", \n",
    "           \"Timon nevadensis Kwet & Trapp, 2014\", \"Lacerta schreiberi Bedriaga, 1878\", \"Lacerta agilis Linnaeus, 1758\", \"Iberolacerta bonnali (Lantz, 1927)\", \"Hemorrhois hippocrepis (Linnaeus, 1758)\", \n",
    "           \"Hyla molleri Bedriaga, 1890\", \"Chioglossa lusitanica Bocage, 1864\", \"Calotriton asper (Dugès, 1852)\", \"Calotriton arnoldi Carranza & Amat, 2005\", \"Pleurodeles waltl Michahelles, 1830\", \n",
    "           \"Ichthyosaura alpestris (Laurenti, 1768)\", \"Lissotriton boscai (Lataste, 1879)\", \"Triturus marmoratus (Latreille, 1800)\", \"Pelobates cultripes (Cuvier, 1829)\", \"Pelodytes punctatus (Daudin, 1802)\", \n",
    "           \"Pelodytes hespericus\", \"Pelodytes ibericus Sánchez-Herraíz, Barbadillo-Escrivá, Machordom & Sanchíz, 2000\", \"Bufo spinosus Daudin, 1803\"]\n",
    "\n"
   ]
  },
  {
   "cell_type": "markdown",
   "id": "broadband-earth",
   "metadata": {},
   "source": [
    "## Get data from the API"
   ]
  },
  {
   "cell_type": "code",
   "execution_count": 16,
   "id": "grave-guest",
   "metadata": {},
   "outputs": [],
   "source": [
    "code_number, sp_list = get_species_name_from_codes(sp_list)"
   ]
  },
  {
   "cell_type": "code",
   "execution_count": 17,
   "id": "automotive-lodging",
   "metadata": {},
   "outputs": [
    {
     "data": {
      "text/plain": [
       "{'Canis lupus Linnaeus, 1758': 5219173,\n",
       " 'Herpestes ichneumon (Linnaeus, 1758)': 2434255,\n",
       " 'Galemys pyrenaicus (É.Geoffroy Saint-Hilaire, 1811)': 5219516,\n",
       " 'Capra pyrenaica Schinz, 1838': 2441054,\n",
       " 'Rupicapra rupicapra (Linnaeus, 1758)': 5220170,\n",
       " 'Alytes obstetricans (Laurenti, 1768)': 2426612,\n",
       " 'Discoglossus galganoi Capula, Nascetti, Lanza, Bullini & Crespo, 1985': 2426616,\n",
       " 'Salamandra salamandra (Linnaeus, 1758)': 2431776,\n",
       " 'Hyla meridionalis Boettger, 1874': 2427555,\n",
       " 'Timon lepidus (Daudin, 1802)': 2468542,\n",
       " 'Vipera latastei Bosca, 1878': 5960896,\n",
       " 'Tyto alba (Scopoli, 1769)': 2497921,\n",
       " 'Otis tarda Linnaeus, 1758': 2474921,\n",
       " 'Upupa epops Linnaeus, 1758': 2498415,\n",
       " 'Fringilla coelebs Linnaeus, 1758': 2494422,\n",
       " 'Loxia curvirostra Linnaeus, 1758': 9629160,\n",
       " 'Podiceps cristatus (Linnaeus, 1758)': 2482054,\n",
       " 'Bucanetes githagineus (M.H.K.Lichtenstein, 1823)': 2494394,\n",
       " 'Hirundo rustica Linnaeus, 1758': 9515886,\n",
       " 'Lutra lutra (Linnaeus, 1758)': 2433753,\n",
       " 'Mareca penelope (Linnaeus, 1758)': 8000602,\n",
       " 'Tadorna tadorna (Linnaeus, 1758)': 2498009,\n",
       " 'Spatula discors (Linnaeus, 1766)': 9422220,\n",
       " 'Netta rufina (Pallas, 1773)': 2498180,\n",
       " 'Alectoris barbara (Bonnaterre, 1792)': 2474045,\n",
       " 'Podiceps auritus (Linnaeus, 1758)': 2482059,\n",
       " 'Podiceps nigricollis C.L.Brehm, 1831': 2482065,\n",
       " 'Plegadis falcinellus (Linnaeus, 1766)': 2480773,\n",
       " 'Platalea leucorodia Linnaeus, 1758': 2480801,\n",
       " 'Ixobrychus minutus (Linnaeus, 1766)': 2480850,\n",
       " 'Ixobrychus sturmii (Wagler, 1827)': 2480845,\n",
       " 'Nycticorax nycticorax (Linnaeus, 1758)': 2480863,\n",
       " 'Ardeola ralloides (Scopoli, 1769)': 2480906,\n",
       " 'Ardea alba Linnaeus, 1758': 9752617,\n",
       " 'Tachybaptus ruficollis (Pallas, 1764)': 2482048,\n",
       " 'Mustela erminea Linnaeus, 1758': 5219019,\n",
       " 'Sciurus vulgaris Linnaeus, 1758': 8211070,\n",
       " 'Martes foina Erxleben, 1777': 5218887,\n",
       " 'Felis silvestris Schreber, 1777': 7964291,\n",
       " 'Genetta genetta (Linnaeus, 1758)': 5219362,\n",
       " 'Eliomys quercinus (Linnaeus, 1766)': 2439683,\n",
       " 'Glis glis (Linnaeus, 1766)': 5706486,\n",
       " 'Martes martes (Linnaeus, 1758)': 5218878,\n",
       " 'Ovis musimon (Pallas, 1811)': 2441116,\n",
       " 'Ursus arctos subsp. arctos': 7193950,\n",
       " 'Meles meles (Linnaeus, 1758)': 2433875,\n",
       " 'Vulpes vulpes (Linnaeus, 1758)': 5219243,\n",
       " 'Acipenser sturio Linnaeus, 1758': 2402203,\n",
       " 'Alosa alosa (Linnaeus, 1758)': 2412685,\n",
       " 'Alosa fallax (Lacepède, 1803)': 2412623,\n",
       " 'Anguilla anguilla (Linnaeus, 1758)': 5212973,\n",
       " 'Salmo trutta Linnaeus, 1758': 8215487,\n",
       " 'Esox lucius Linnaeus, 1758': 2346633,\n",
       " 'Pseudochondrostoma duriense (Coelho, 1985)': 2360371,\n",
       " 'Pseudochondrostoma polylepis (Steindachner, 1864)': 2360367,\n",
       " 'Pseudochondrostoma willkommii (Steindachner, 1866)': 2360363,\n",
       " 'Gobio lozanoi Doadrio & Madeira, 2004': 4409629,\n",
       " 'Tinca tinca (Linnaeus, 1758)': 2362524,\n",
       " 'Chamaeleo chamaeleon (Linnaeus, 1758)': 2449051,\n",
       " 'Blanus cinereus (Vandelli, 1797)': 2473222,\n",
       " 'Blanus mariae Albert & Fernández, 2009': 7507046,\n",
       " 'Anguis fragilis Linnaeus, 1758': 2468095,\n",
       " 'Hemidactylus turcicus Linnaeus, 1758': 5221528,\n",
       " 'Tarentola mauritanica (Linnaeus, 1758)': 2445034,\n",
       " 'Chalcides bedriagai (Bosca, 1880)': 8974077,\n",
       " 'Chalcides striatus (Cuvier, 1829)': 5225191,\n",
       " 'Timon nevadensis Kwet & Trapp, 2014': 9574630,\n",
       " 'Lacerta schreiberi Bedriaga, 1878': 6159196,\n",
       " 'Lacerta agilis Linnaeus, 1758': 6159223,\n",
       " 'Iberolacerta bonnali (Lantz, 1927)': 2468525,\n",
       " 'Hemorrhois hippocrepis (Linnaeus, 1758)': 2459023,\n",
       " 'Hyla molleri Bedriaga, 1890': 2427580,\n",
       " 'Chioglossa lusitanica Bocage, 1864': 2431938,\n",
       " 'Calotriton asper (Dugès, 1852)': 2431824,\n",
       " 'Calotriton arnoldi Carranza & Amat, 2005': 2431827,\n",
       " 'Pleurodeles waltl Michahelles, 1830': 2431875,\n",
       " 'Ichthyosaura alpestris (Laurenti, 1768)': 2431783,\n",
       " 'Lissotriton boscai (Lataste, 1879)': 5218408,\n",
       " 'Triturus marmoratus (Latreille, 1800)': 2431886,\n",
       " 'Pelobates cultripes (Cuvier, 1829)': 2430565,\n",
       " 'Pelodytes punctatus (Daudin, 1802)': 2424293,\n",
       " 'Pelodytes hespericus': 9568260,\n",
       " 'Pelodytes ibericus Sánchez-Herraíz, Barbadillo-Escrivá, Machordom & Sanchíz, 2000': 2424292,\n",
       " 'Bufo spinosus Daudin, 1803': 9421513}"
      ]
     },
     "execution_count": 17,
     "metadata": {},
     "output_type": "execute_result"
    }
   ],
   "source": [
    "code_number"
   ]
  },
  {
   "cell_type": "code",
   "execution_count": null,
   "id": "ready-equality",
   "metadata": {},
   "outputs": [],
   "source": [
    "response = requests.get('http://api.gbif.org/v1/occurrence/counts/datasets')\n",
    "response.status_code"
   ]
  },
  {
   "cell_type": "code",
   "execution_count": null,
   "id": "resistant-palmer",
   "metadata": {},
   "outputs": [],
   "source": [
    "#data = occ.search(taxonKey = 2434255, limit = 300, country = 'ES', year = 2016)\n",
    "#data"
   ]
  },
  {
   "cell_type": "markdown",
   "id": "arbitrary-basement",
   "metadata": {},
   "source": [
    "ASi me salen todo bien menos el nombre comun, que solo me sale para algunas especies."
   ]
  },
  {
   "cell_type": "code",
   "execution_count": null,
   "id": "comprehensive-duncan",
   "metadata": {},
   "outputs": [],
   "source": [
    "%%time\n",
    "df = get_coordinates(sp)"
   ]
  },
  {
   "cell_type": "code",
   "execution_count": null,
   "id": "convertible-andorra",
   "metadata": {},
   "outputs": [],
   "source": [
    "#Aplico la funcion common_names para sacar todos los nombres comunes en ingles\n",
    "df['common_name'] = df['common_name'].apply(lambda x: get_common_names(x))"
   ]
  },
  {
   "cell_type": "code",
   "execution_count": null,
   "id": "alert-immigration",
   "metadata": {},
   "outputs": [],
   "source": [
    "df = clean(df, \"species\")"
   ]
  },
  {
   "cell_type": "code",
   "execution_count": null,
   "id": "recorded-league",
   "metadata": {},
   "outputs": [],
   "source": [
    "df.to_csv(\"Species_def.csv\", index = False)"
   ]
  }
 ],
 "metadata": {
  "kernelspec": {
   "display_name": "final",
   "language": "python",
   "name": "final"
  },
  "language_info": {
   "codemirror_mode": {
    "name": "ipython",
    "version": 3
   },
   "file_extension": ".py",
   "mimetype": "text/x-python",
   "name": "python",
   "nbconvert_exporter": "python",
   "pygments_lexer": "ipython3",
   "version": "3.8.5"
  },
  "toc": {
   "base_numbering": 1,
   "nav_menu": {},
   "number_sections": true,
   "sideBar": true,
   "skip_h1_title": false,
   "title_cell": "Table of Contents",
   "title_sidebar": "Contents",
   "toc_cell": false,
   "toc_position": {},
   "toc_section_display": true,
   "toc_window_display": false
  },
  "varInspector": {
   "cols": {
    "lenName": 16,
    "lenType": 16,
    "lenVar": 40
   },
   "kernels_config": {
    "python": {
     "delete_cmd_postfix": "",
     "delete_cmd_prefix": "del ",
     "library": "var_list.py",
     "varRefreshCmd": "print(var_dic_list())"
    },
    "r": {
     "delete_cmd_postfix": ") ",
     "delete_cmd_prefix": "rm(",
     "library": "var_list.r",
     "varRefreshCmd": "cat(var_dic_list()) "
    }
   },
   "types_to_exclude": [
    "module",
    "function",
    "builtin_function_or_method",
    "instance",
    "_Feature"
   ],
   "window_display": false
  }
 },
 "nbformat": 4,
 "nbformat_minor": 5
}
